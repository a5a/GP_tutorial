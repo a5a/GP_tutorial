{
 "metadata": {
  "name": "",
  "signature": "sha256:d984b1fc0f3b798afb58fe79a6fffad799b7b2582379da2fa71a41b7f4bdb1c4"
 },
 "nbformat": 3,
 "nbformat_minor": 0,
 "worksheets": [
  {
   "cells": [
    {
     "cell_type": "markdown",
     "metadata": {},
     "source": [
      "#Gaussian Processes Tutorial\n",
      "####Ahsan S. Alvi, Elmarie van Heerden\n",
      "\n",
      "This tutorial makes use of the Gaussian Processes framework GPy  (https://github.com/SheffieldML/GPy)\n",
      "\n",
      "If you don't have this installed yet, follow one of the following installation instructions:\n",
      "\n",
      "A. Github (preferred)\n",
      "  1. In a terminal, change to the directory where you want to store the library's files\n",
      "  2. Run \"git clone https://github.com/SheffieldML/GPy.git\" (without the quotation marks)\n",
      "\n",
      "B. Python-pip\n",
      "  1. Run \"pip install gpy\" (without the quotation marks)\n",
      "\n",
      "\n",
      "Other requirements are:\n",
      "  1. numpy\n",
      "  2. scipy\n",
      "  3. matplotlib\n",
      "\n",
      "\n",
      "Acknowledgement: Parts of this tutorial are inspired by the tutorials given at the Gaussian Process Summer School 2013 (http://ml.dcs.shef.ac.uk/gpss/gpss13)"
     ]
    },
    {
     "cell_type": "code",
     "collapsed": false,
     "input": [
      "\"\"\"\n",
      "If this cell works, then you have all the requirements \n",
      "for this tutorial installed correctly!\n",
      "\"\"\"\n",
      "import numpy as np\n",
      "import pylab as plt\n",
      "%matplotlib inline\n",
      "\n",
      "\"\"\"\n",
      "Adding the location of the library should only be necessary \n",
      "if you haven't already added GPy to your PYTHONPATH\n",
      "\"\"\"\n",
      "from os.path import expanduser as eu\n",
      "import sys\n",
      "# Change this to your GPy installation location\n",
      "GPy_path = '~/DPhil/Code/libraries/GPy'  \n",
      "sys.path.append(eu(GPy_path))\n",
      "\n",
      "import GPy"
     ],
     "language": "python",
     "metadata": {},
     "outputs": []
    },
    {
     "cell_type": "code",
     "collapsed": false,
     "input": [
      "#Misc settings\n",
      "fs = (9, 5)  # figure size; change this if you need to\n",
      "ms = 11  # marker size in plots\n",
      "sd = 6  # random seed"
     ],
     "language": "python",
     "metadata": {},
     "outputs": []
    },
    {
     "cell_type": "markdown",
     "metadata": {},
     "source": [
      "##Kernels\n",
      "The workhorse of the Gaussian Process is the kernel. This defines the relationship between points and contains any prior knowledge of the domain:\n",
      "\n",
      "\\begin{equation}\n",
      "\\mathbf{f} \\sim \\mathcal{GP}(0, k(\\mathbf{x},\\mathbf{x})).\n",
      "\\end{equation}\n",
      "\n",
      "The kernels are accessible via the GPy.kern module. A large number of kernels are available out of the box and they all support adding and multiplication with other kernels. New kernels can be developed by extending the kernel class.\n",
      "\n",
      "We will first look at one of the most popular kernels - the squared exponential kernel, also known as the exponentiated quadratic or radial basis function (RBF) kernel:\n",
      "\\begin{equation}\n",
      "k(x_1, x_2) = \\sigma^2 \\exp \\left(-\\frac{\\left|x_1 - x_2\\right|^2}{2 l^2} \\right).\n",
      "\\end{equation}\n",
      "\n",
      "See the accompanying presentation for the functional form of some popular kernels. "
     ]
    },
    {
     "cell_type": "code",
     "collapsed": false,
     "input": [
      "# Note: Supplying kernel parameters is optional.\n",
      "\n",
      "k = GPy.kern.RBF(1, variance=1.5, lengthscale=0.4)\n",
      "# k = GPy.kern.Matern32(1)\n",
      "# k = GPy.kern.Matern52(1)\n",
      "# k = GPy.kern.Exponential(1)\n",
      "# k = GPy.kern.PeriodicExponential(1)\n",
      "\n",
      "# We are provided a summary of the kernel by printing the variable\n",
      "print k, '\\n\\n'\n",
      "\n",
      "# To visualize the kernel we call its plot() function\n",
      "fig, ax = plt.subplots(1, 1, figsize=fs)\n",
      "k.plot(ax=ax)"
     ],
     "language": "python",
     "metadata": {},
     "outputs": []
    },
    {
     "cell_type": "markdown",
     "metadata": {},
     "source": [
      "Let's have a look at how the 'lengthscale' parameter changes our kernel. The parameters are accessed and changed using regex as follows:\n",
      "\n",
      "    k['.*hp'] = 1.0\n",
      "\n",
      "After running the cell below, change it to show how the variance affects the kernel."
     ]
    },
    {
     "cell_type": "code",
     "collapsed": false,
     "input": [
      "k = GPy.kern.RBF(1) \n",
      "\n",
      "fig, ax = plt.subplots(1, 1, figsize=fs)\n",
      "\n",
      "theta = np.asarray([0.2,0.5,1.,2.,4.])\n",
      "for t in theta:\n",
      "    k['.*lengthscale']=t\n",
      "    k.plot(ax=ax)\n",
      "plt.legend(theta)"
     ],
     "language": "python",
     "metadata": {},
     "outputs": []
    },
    {
     "cell_type": "markdown",
     "metadata": {},
     "source": [
      "Any function that is positive semi-definite (PSD), i.e. the matrix evaluating the function at the input locations is PSD, is a valid kernel. The sum as well as the product of PSD functions is also PSD, so they are in turn also valid kernels."
     ]
    },
    {
     "cell_type": "code",
     "collapsed": false,
     "input": [
      "# We can add kernels\n",
      "k1 = GPy.kern.RBF(1, lengthscale=2., variance=1.0)\n",
      "k2 = GPy.kern.Cosine(1, lengthscale=0.3, variance=0.3)\n",
      "\n",
      "fig, (ax1, ax2) = plt.subplots(1, 2, figsize=fs)\n",
      "k1.plot(ax=ax1)\n",
      "k2.plot(ax=ax2)\n",
      "\n",
      "fig, (ax3, ax4) = plt.subplots(1, 2, figsize=fs)\n",
      "k_add = k1 + k2\n",
      "# print k_add, '\\n\\n'\n",
      "k_add.plot(ax=ax3)\n",
      "\n",
      "k_mult = k1 * k2\n",
      "# print k_mult, '\\n\\n'\n",
      "k_mult.plot(ax=ax4)\n",
      "\n"
     ],
     "language": "python",
     "metadata": {},
     "outputs": []
    },
    {
     "cell_type": "markdown",
     "metadata": {},
     "source": [
      "Many kernels are already implemented in GPy. The kernels that have been introduced so far are stationary (i.e. are dependent on the distance $|x_1 - x_2|$ rather than the actual values of $x_1$ or $x_2$). There are non-stationary kernels, e.g. the Brownian kernel.\n",
      "\n",
      "If we want to access the covariance matrix of a kernel we can use the function\n",
      "\n",
      "    k.K(x1, x2)\n",
      "    \n",
      "Let's have a look at the covariance matrices of some kernels"
     ]
    },
    {
     "cell_type": "code",
     "collapsed": false,
     "input": [
      "X = np.linspace(0, 10).reshape((-1, 1))  # We need column vectors\n",
      "\n",
      "cov_mat1 = k1.K(X, X)\n",
      "cov_mat2 = k2.K(X, X)\n",
      "\n",
      "# cov_mat_add = k_add.K(X, X)\n",
      "cov_mat_prod = k_mult.K(X, X)\n",
      "\n",
      "fig, (ax1, ax2) = plt.subplots(1, 2, figsize=fs)\n",
      "ax1.imshow(cov_mat1, interpolation=\"nearest\")\n",
      "ax1.set_title('RBF kernel')\n",
      "ax2.imshow(cov_mat2, interpolation=\"nearest\")\n",
      "ax2.set_title('Cosine kernel')\n",
      "\n",
      "plt.figure(figsize=fs)\n",
      "plt.imshow(cov_mat_prod, interpolation=\"nearest\")\n",
      "plt.title('Cosine * RBF kernel')"
     ],
     "language": "python",
     "metadata": {},
     "outputs": []
    },
    {
     "cell_type": "markdown",
     "metadata": {},
     "source": [
      "##Gaussian Processes\n",
      "\n",
      "We will start by drawing some sample functions from covariance matrices. Choosing a kernel or a combination of kernels is how we introduce our prior knowledge into the model, so understanding the properties of kernels qualitatively will be useful.\n",
      "\n",
      "###Draws from a GP kernel\n",
      "The prior probability distribution is given here again as a reminder:\n",
      "\\begin{equation}\n",
      "\\mathbf{f} \\sim \\mathcal{GP}(0, k(\\mathbf{x},\\mathbf{x})).\n",
      "\\end{equation}\n",
      "We see that drawing a function from a GP prior is equivalent to sampling a vector from a multivariate Gaussian distribution defined by the mean function and the covariance matrix of our kernel.\n",
      "\n",
      "We start with the RBF kernel, but feel free to replace this with any of the commented kernels or any other kernel you choose."
     ]
    },
    {
     "cell_type": "code",
     "collapsed": false,
     "input": [
      "num_draws = 5  # Number of functions to draw from the kernel\n",
      "X = np.linspace(-5, 5, 100)[:, None]\n",
      "\n",
      "k = GPy.kern.RBF(1, lengthscale=1.5, variance=1.)\n",
      "# k = GPy.kern.Matern32(1, lengthscale=0.5, variance=1.)\n",
      "# k = GPy.kern.PeriodicExponential(1, lengthscale=0.5, variance=1.)\n",
      "# k = GPy.kern.Cosine(1, lengthscale=0.5, variance=1.)\n",
      "\n",
      "# eps added along the diagonal for numerical stability. \n",
      "# If you get warnings about the covariance not being \n",
      "# positive definite, increase this value. \n",
      "eps = 5e-6\n",
      "\n",
      "mean_vec = np.zeros((len(X),))\n",
      "cov_mat = k.K(X, X) + eps * np.eye(len(X))\n",
      "\n",
      "plt.figure(figsize=fs)\n",
      "for ii in xrange(num_draws):\n",
      "    f = np.random.multivariate_normal(mean_vec, cov_mat)\n",
      "    plt.plot(X, f)\n",
      "    \n",
      "plt.xlim((min(X), max(X)))\n",
      "plt.title('Sample functions from the kernel')"
     ],
     "language": "python",
     "metadata": {},
     "outputs": []
    },
    {
     "cell_type": "markdown",
     "metadata": {},
     "source": [
      "###The GP Regression model\n",
      "Now we move to performing regression with a GP. The available models in GPy are accessible through the GPy.models module. \n",
      "\n",
      "The model we are interested in is the GPRegression model. This model is a GP prior with a Gaussian likelihood. We need to provide the training data (X, y) and the kernel to initialise the model."
     ]
    },
    {
     "cell_type": "code",
     "collapsed": false,
     "input": [
      "num_train = 30\n",
      "num_test = 30"
     ],
     "language": "python",
     "metadata": {},
     "outputs": []
    },
    {
     "cell_type": "code",
     "collapsed": false,
     "input": [
      "# Create some toy data\n",
      "eps = 5e-6\n",
      "noise_var = 0.1  # Gaussian noise variance\n",
      "\n",
      "X = np.linspace(-5, 5, num_train+num_test)[:, None]\n",
      "k_data = GPy.kern.Matern32(1, lengthscale=1.5, variance=1.)\n",
      "data_cov = k.K(X, X) + eps * np.eye(len(X))\n",
      "\n",
      "# f = uncorrupted function; y = noisy observations\n",
      "f = np.random.multivariate_normal(np.zeros(len(X)), data_cov)\n",
      "f = (f - np.mean(f))/np.std(f)\n",
      "\n",
      "y =  f + noise_var * np.random.randn(len(X))\n",
      "\n",
      "# Split into train and test sets\n",
      "idx = np.random.permutation(np.arange(num_train+num_test))\n",
      "idx_train = np.sort(idx[:num_train])\n",
      "idx_test = np.sort(idx[num_train:])\n",
      "\n",
      "x_train = X[idx_train]\n",
      "x_test = X[idx_test]\n",
      "y_train = y[idx_train]\n",
      "y_test = y[idx_test]\n",
      "\n",
      "plt.figure(figsize=fs)\n",
      "plt.title('Some toy data')\n",
      "plt.plot(X, f, 'm')\n",
      "plt.plot(x_train, y_train, 'c*', ms=ms)\n",
      "plt.plot(x_test, y_test, 'y*', ms=ms)\n",
      "plt.legend(['all data', 'training', 'testing'])"
     ],
     "language": "python",
     "metadata": {},
     "outputs": []
    },
    {
     "cell_type": "code",
     "collapsed": false,
     "input": [
      "# The printing and plotting interface is the same as we saw with kernels\n",
      "k = GPy.kern.Matern32(1, lengthscale=1.0, variance=1.)\n",
      "m = GPy.models.GPRegression(x_train, y_train[:, None], k)\n",
      "print m,'\\n\\n'\n",
      "\n",
      "# Plot the model prediction against the true curve\n",
      "fig, ax = plt.subplots(1, 1, figsize=fs)\n",
      "m.plot(ax=ax)\n",
      "plt.plot(X, f, 'm')\n",
      "plt.xlim((min(X), max(X)))\n",
      "plt.title('GP regression model fit before optimization')"
     ],
     "language": "python",
     "metadata": {},
     "outputs": []
    },
    {
     "cell_type": "markdown",
     "metadata": {},
     "source": [
      "Optimizing a model is achieved by calling its optimize() function. \n",
      "This performs a gradient search maximizing the log likelihood. "
     ]
    },
    {
     "cell_type": "code",
     "collapsed": false,
     "input": [
      "m.optimize()\n",
      "print m,'\\n\\n'\n",
      "\n",
      "# Plot the model prediction against the true curve\n",
      "fig, ax = plt.subplots(1, 1, figsize=fs)\n",
      "m.plot(ax=ax)\n",
      "plt.plot(X, f, 'm')\n",
      "plt.xlim((min(X), max(X)))\n",
      "plt.title('Optimized GP regression model fit')"
     ],
     "language": "python",
     "metadata": {},
     "outputs": []
    },
    {
     "cell_type": "markdown",
     "metadata": {},
     "source": [
      "Try changing the true kernel (k_data), the model kernel (k) and its initial parameters. You will find that the choice of kernel type may influence the predictions significantly, so it is important to choose a suitable kernel."
     ]
    },
    {
     "cell_type": "markdown",
     "metadata": {},
     "source": [
      "### A 2D example\n",
      "\n",
      "Our data is comprised of the sum of a sinusoid in x and a sinusoid in y."
     ]
    },
    {
     "cell_type": "code",
     "collapsed": false,
     "input": [
      "# Adapted from the GPy documentation\n",
      "\n",
      "# sample inputs and outputs\n",
      "X_2D = np.random.uniform(-3.,3.,(50,2))\n",
      "y_2D = np.sin(X_2D[:,0:1])*np.sin(X_2D[:,1:2])+np.random.randn(50,1)*0.05\n",
      "\n",
      "# define kernel\n",
      "k_2D = GPy.kern.Matern52(2) + GPy.kern.White(2)\n",
      "\n",
      "# create simple GP model\n",
      "m_2D = GPy.models.GPRegression(X_2D, y_2D, k_2D)\n",
      "\n",
      "# optimize and plot\n",
      "m_2D.optimize(max_f_eval = 1000)\n",
      "\n",
      "fig, ax = plt.subplots(1, 1, figsize=fs)\n",
      "m_2D.plot(ax=ax)\n",
      "print(m_2D)"
     ],
     "language": "python",
     "metadata": {},
     "outputs": []
    },
    {
     "cell_type": "markdown",
     "metadata": {},
     "source": [
      "###Changing the model parameters manually\n",
      "There are a number of ways to change the model parameters. Accesssing them using regex is the preferred method."
     ]
    },
    {
     "cell_type": "code",
     "collapsed": false,
     "input": [
      "# Accessing the variable directly\n",
      "# print m\n",
      "m.kern.variance = 1.5\n",
      "print m"
     ],
     "language": "python",
     "metadata": {},
     "outputs": []
    },
    {
     "cell_type": "code",
     "collapsed": false,
     "input": [
      "# Replacing the whole parameter vector\n",
      "# NOTE: This will ignore any constraints that may have been set \n",
      "#       in the model. Use with care.\n",
      "# print m\n",
      "hps = m.param_array\n",
      "hps *= 1.5\n",
      "m[:] = hps\n",
      "print m"
     ],
     "language": "python",
     "metadata": {},
     "outputs": []
    },
    {
     "cell_type": "code",
     "collapsed": false,
     "input": [
      "# Regex - preferred method\n",
      "# print m\n",
      "m['.*lengthscale'] = 2.\n",
      "# There are two variances, so we need to be more specific\n",
      "m['Gaussian_noise.variance'] = 1.5  \n",
      "print m"
     ],
     "language": "python",
     "metadata": {},
     "outputs": []
    },
    {
     "cell_type": "markdown",
     "metadata": {},
     "source": [
      "##\u00a0Further reading\n",
      "\n",
      "Here are some interesting papers and links on more specialised topics that may be of interest to some people. This is by no means an exhaustive list, but reflects some ideas I personally think may be interesting to the reader. \n",
      "\n",
      "### Multi-output kernel regression\n",
      "GP regression is not limited to applications on single-output data sets, but can also be performed on multiple related sets of observations. Here is a great review paper on this type of model: http://arxiv.org/abs/1106.6251\n",
      "\n",
      "The data set could take the form of prices of stocks in the same sector or measurements by co-located sensors. We expect the time series to behave similarly to some extent, so we use a kernel that not only describes the relationship between data points in a single time series, but also incorporates information the other time series bring to the table about the point(s) we are interested in predicting.\n",
      "\n",
      "Multi-output GPs have been used in the field of geostatistics. Such models are referred to as coregionalization models. They refer to GP regression as (co-)kriging. An example application would be improving a predictive map of a difficult to measure pollutant. We measure its concentration on a relatively sparse grid and then perform inexpensive measurements of a different element (that can be used as a proxy for our pollutant) on a denser grid. We then fuse the two sets of data together to get a better prediction of the pollutant. \n",
      "\n",
      "The GPy documentation has a [tutorial on this topic](http://nbviewer.ipython.org/github/SheffieldML/notebook/blob/master/GPy/coregionalized_regression_tutorial.ipynb). \n",
      "\n",
      "###Working with big data sets\n",
      "Gaussian Processes can be used very effectively for small to medium-sized data sets. Simple kernels and combinations of kernels allow us to encode prior information into our model very effectively. When we design the kernels to correspond to specific physical processes, then their optimal hyperparameter values may shed light onto the properties of the components, as well as giving us excellent predictive performance. See e.g. [this paper by Alvarez et. al.](http://jmlr.csail.mit.edu/proceedings/papers/v5/alvarez09a/alvarez09a.pdf) for a way to encode differential equations into a GP.\n",
      "\n",
      "When the size of our data sets crosses roughly 10,000 data points, then the computational time of the matrix inversions in the log marginal likelihood (for training) and prediction equations become infeasible, due the inversion scaling as $O(N^3)$ in computation time and $O(N^2)$ in storage requirement. \n",
      "\n",
      "A number of different approaches are being explored to work around this limitation:\n",
      "* There are a number of sparse approximations to the full GP posterior that make certain assumptions about the nature of the data that give rise to computationally attractive properties. A nice summary to start at is [this review paper by Quinonero-Candela et. al.](http://jmlr.org/papers/volume6/quinonero-candela05a/quinonero-candela05a.pdf). Many sparse GP models are actually available in GPy out of the box. Here is a [tutorial on this topic by the authors of GPy](http://ml.dcs.shef.ac.uk/gpss/gpss13/labs/lab2.pdf).\n",
      "* Finding exactly equivalent models to the GP. For example the Matern kernels can be converted into Kalman Filters that return exactly the same results as the GP would but in a fraction of the time needed, as the matrices that inverted are much smaller. See [this paper by Hartikainen et. al.](http://www.lce.hut.fi/~ssarkka/pub/gp-ts-kfrts.pdf) for a discussion on this topic.\n",
      "* Choosing a subset of the data to train a standard GP. One of the directions that I am exploring is choosing a subset of data intelligently, e.g. by ranking data points according an [information theoretic criterion](http://arxiv.org/pdf/1112.5745.pdf) to ensure that the subset is maximally informative according to the criterion. One paper discussing such an application is [this one by Garnett et. al.](http://arxiv.org/abs/1310.6740)\n"
     ]
    },
    {
     "cell_type": "code",
     "collapsed": false,
     "input": [],
     "language": "python",
     "metadata": {},
     "outputs": []
    }
   ],
   "metadata": {}
  }
 ]
}